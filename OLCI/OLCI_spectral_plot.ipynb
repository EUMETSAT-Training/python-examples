{
 "cells": [
  {
   "cell_type": "markdown",
   "metadata": {},
   "source": [
    "# OLCI spectral plotting"
   ]
  },
  {
   "cell_type": "markdown",
   "metadata": {},
   "source": [
    "This routine shows examples of how to use python netcdf libraries to plot OLCI L2 spectra, either for a single point or averaged over and area.\n",
    "\n",
    "    Version: 1.1\n",
    "    Author: B loveday, PML"
   ]
  },
  {
   "cell_type": "markdown",
   "metadata": {},
   "source": [
    "Import libraries"
   ]
  },
  {
   "cell_type": "code",
   "execution_count": 1,
   "metadata": {},
   "outputs": [],
   "source": [
    "import netCDF4 as nc\n",
    "import numpy as np\n",
    "import matplotlib.pyplot as plt\n",
    "import os, sys, shutil\n",
    "import fnmatch\n",
    "import datetime\n",
    "import logging"
   ]
  },
  {
   "cell_type": "markdown",
   "metadata": {},
   "source": [
    "Turn off automatic plotting"
   ]
  },
  {
   "cell_type": "code",
   "execution_count": 2,
   "metadata": {},
   "outputs": [],
   "source": [
    "plt.ioff()"
   ]
  },
  {
   "cell_type": "markdown",
   "metadata": {},
   "source": [
    "Here we define a function to calculate spherical distance between points so that we can define polygons"
   ]
  },
  {
   "cell_type": "code",
   "execution_count": 3,
   "metadata": {},
   "outputs": [],
   "source": [
    "# function\n",
    "def spheric_dist(lat1,lat2,lon1,lon2,mode=\"global\"):\n",
    "\n",
    "    '''\n",
    "      function dist=spheric_dist(lat1,lat2,lon1,lon2)\n",
    "      compute distances for a simple spheric earth\n",
    "\n",
    "      input:\n",
    "      lat1 : latitude of first point (matrix or point)\n",
    "      lon1 : longitude of first point (matrix or point)\n",
    "      lat2 : latitude of second point (matrix or point)\n",
    "      lon2 : longitude of second point (matrix or point)\n",
    "\n",
    "      output:\n",
    "      dist : distance from first point to second point (matrix)\n",
    "    '''\n",
    "\n",
    "    R = 6367442.76\n",
    "    # Determine proper longitudinal shift.\n",
    "    l = np.abs(lon2-lon1)\n",
    "    try:\n",
    "        l[l >= 180] = 360 - l[l >= 180]\n",
    "    except:\n",
    "        pass\n",
    "    # Convert Decimal degrees to radians.\n",
    "    deg2rad = np.pi/180\n",
    "    phi1    = (90-lat1)*deg2rad\n",
    "    phi2    = (90-lat2)*deg2rad\n",
    "    theta1  = lon1*deg2rad\n",
    "    theta2  = lon2*deg2rad\n",
    " \n",
    "    lat1    = lat1*deg2rad\n",
    "    lat2    = lat2*deg2rad\n",
    "    l       = l*deg2rad\n",
    "\n",
    "    if mode==\"global\":\n",
    "        # Compute the distances: new\n",
    "        cos     = (np.sin(phi1)*np.sin(phi2)*np.cos(theta1 - theta2) + \n",
    "                   np.cos(phi1)*np.cos(phi2))\n",
    "        arc     = np.arccos( cos )\n",
    "        dist    = R*arc\n",
    "    elif mode==\"regional\":\n",
    "        # Compute the distances: 1 old, deprecated ROMS version - unsuitable for global\n",
    "        dist    = R*np.arcsin(np.sqrt(((np.sin(l)*np.cos(lat2))**2) + (((np.sin(lat2)*np.cos(lat1)) - \\\n",
    "                  (np.sin(lat1)*np.cos(lat2)*np.cos(l)))**2)))\n",
    "    elif mode==\"local\":\n",
    "        #uses approx for now: \n",
    "        x = [lon2-lon1] * np.cos(0.5*[lat2+lat1])\n",
    "        y = lat2-lat1\n",
    "        dist = R*[x*x+y*y]^0.5\n",
    "    else:\n",
    "        print(\"incorrect mode\")\n",
    "\n",
    "    return dist"
   ]
  },
  {
   "cell_type": "markdown",
   "metadata": {},
   "source": [
    "Now we define our default parameters"
   ]
  },
  {
   "cell_type": "code",
   "execution_count": 4,
   "metadata": {},
   "outputs": [],
   "source": [
    "#-default parameters------------------------------------------------------------\n",
    "DEFAULT_ROOT_DIR    = os.getcwd()\n",
    "DEFAULT_LOG_PATH    = os.getcwd()\n",
    "DEFAULT_FILE_FILTER = '*reflectance*.nc'"
   ]
  },
  {
   "cell_type": "markdown",
   "metadata": {},
   "source": [
    "And any arguments, should we wish to adapt this for batch mode"
   ]
  },
  {
   "cell_type": "code",
   "execution_count": 5,
   "metadata": {},
   "outputs": [],
   "source": [
    "#-args--------------------------------------------------------------------------\n",
    "#parser = argparse.ArgumentParser()\n",
    "#args = parser.parse_args()"
   ]
  },
  {
   "cell_type": "markdown",
   "metadata": {},
   "source": [
    "And here we enter the programme proper, setting up our preliminaries and logfile."
   ]
  },
  {
   "cell_type": "code",
   "execution_count": 6,
   "metadata": {},
   "outputs": [
    {
     "name": "stdout",
     "output_type": "stream",
     "text": [
      "logging to: /shared/OLCI/OLCI_spectral_plot_20180409_1319.log\n"
     ]
    }
   ],
   "source": [
    "#-main-------------------------------------------------------------------------\n",
    "if __name__ == '__main__':\n",
    "    # preliminary stuff\n",
    "    logfile = os.path.join(DEFAULT_LOG_PATH,\"OLCI_spectral_plot_\"+datetime.datetime.now().strftime('%Y%m%d_%H%M')+\".log\")\n",
    "    # we define a verbose flag to control how much info we want to see. It can also be useful to define a debug flag\n",
    "    # for even more information.\n",
    "    verbose = False\n",
    "    \n",
    "    # set file logger\n",
    "    try:\n",
    "        if os.path.exists(logfile):\n",
    "            os.remove(logfile)\n",
    "        print(\"logging to: \"+logfile)\n",
    "        logging.basicConfig(filename=logfile,level=logging.DEBUG)\n",
    "    except:\n",
    "        print(\"Failed to set logger\")"
   ]
  },
  {
   "cell_type": "markdown",
   "metadata": {},
   "source": [
    "Next we define the a box to average our spectra over. If we set the lon values equal, and lat values equal, then we take the spectra from the nearest single point."
   ]
  },
  {
   "cell_type": "code",
   "execution_count": 7,
   "metadata": {},
   "outputs": [
    {
     "name": "stdout",
     "output_type": "stream",
     "text": [
      "Using nearest point\n"
     ]
    }
   ],
   "source": [
    "    # makes box average. Will choose nearest point if latmin == latmax and lonmin == lonmax\n",
    "    lonmin = 70.0\n",
    "    lonmax = 70.0\n",
    "    latmin = 14.0\n",
    "    latmax = 14.0\n",
    "\n",
    "    nearest_flag = False\n",
    "    if lonmin == lonmax and latmin == latmax:\n",
    "        print('Using nearest point')\n",
    "        nearest_flag = True\n",
    "    else:\n",
    "        print('Making box average')"
   ]
  },
  {
   "cell_type": "markdown",
   "metadata": {},
   "source": [
    "Now we load our latitude and longitude fields so that we can extract the indices for the box (or point) we want to get the spectra for."
   ]
  },
  {
   "cell_type": "code",
   "execution_count": 8,
   "metadata": {},
   "outputs": [],
   "source": [
    "    # get the paths and coordinates files    \n",
    "    input_root    = os.path.join(os.getcwd(),'OLCI_test_data')\n",
    "    input_path    = \"S3A_OL_2_WFR____20171226T045629_20171226T045929_20171227T105453_0179_026_076_2700_MAR_O_NT_002.SEN3\"\n",
    "    file_name_geo = \"geo_coordinates.nc\"\n",
    "    # NOTE THAT I HAVE DONE A 'TIE-POINT EXPANSION' HERE TO GET FULL LAT/LON VARIABLES. THIS CAN BE DONE IN SNAP.\n",
    "    GEO_file      = nc.Dataset(os.path.join(input_root,input_path,file_name_geo), 'r')\n",
    "    LAT           = GEO_file.variables['latitude'][:]\n",
    "    LON           = GEO_file.variables['longitude'][:]\n",
    "    GEO_file.close()\n",
    "\n",
    "    dist_i1 = spheric_dist(latmin,LAT,lonmin,LON)\n",
    "    #J is the X-coord\n",
    "    I1,J1   = np.where(dist_i1 == np.nanmin(dist_i1))\n",
    "\n",
    "    if nearest_flag:\n",
    "        I1 = I1[0]\n",
    "        J1 = J1[0]\n",
    "        I2 = I1+1\n",
    "        J2 = J1+1\n",
    "    else:\n",
    "        dist_i2 = spheric_dist(latmax,LAT,lonmax,LON)\n",
    "        I2, J2   = np.where(dist_i2 == np.nanmin(dist_i2))\n",
    "        I1 = I1[0]\n",
    "        J1 = J1[0]\n",
    "        I2 = I2[0]\n",
    "        J2 = J2[0]\n",
    "    \n",
    "    # re-arrange coordinates so that we count upwards...\n",
    "    if J2 < J1:\n",
    "        J1f = J2\n",
    "        J2f = J1\n",
    "    else:\n",
    "        J1f = J1\n",
    "        J2f = J2\n",
    "    \n",
    "    if I2 < I1:\n",
    "        I1f = I2\n",
    "        I2f = I1\n",
    "    else:\n",
    "        I1f = I1\n",
    "        I2f = I2"
   ]
  },
  {
   "cell_type": "markdown",
   "metadata": {},
   "source": [
    "The values for the wavelengths of each channel are stored in the xml manifest files, so lets read through that line by line and extract them, as well as the bandwidths."
   ]
  },
  {
   "cell_type": "code",
   "execution_count": 9,
   "metadata": {},
   "outputs": [],
   "source": [
    "    # get wavelengths from xml file\n",
    "    bands              = []\n",
    "    wavelengths        = []\n",
    "    bandwidths         = []    \n",
    "    xml_file = os.path.join(input_root,input_path,'xfdumanifest.xml')\n",
    "    with open(xml_file, 'r') as input_file:\n",
    "        for line in input_file:\n",
    "            if \"<sentinel3:band name=\" in line:\n",
    "                bands.append(line.replace('<sentinel3:band name=\"',\"\").replace('\">','').replace(' ','').replace('\\n',''))\n",
    "            if \"<sentinel3:centralWavelength>\" in line:\n",
    "                wavelengths.append(float(line.replace('<sentinel3:centralWavelength>','').replace('</sentinel3:centralWavelength>','')))\n",
    "            if \"<sentinel3:bandwidth>\" in line:\n",
    "                bandwidths.append(float(line.replace('<sentinel3:bandwidth>','').replace('</sentinel3:bandwidth>','')))"
   ]
  },
  {
   "cell_type": "markdown",
   "metadata": {},
   "source": [
    "Now lets loop through all of the reflectances, one-by-one and pull out the value over the boox or point for each field, storing them in a list."
   ]
  },
  {
   "cell_type": "code",
   "execution_count": 10,
   "metadata": {},
   "outputs": [],
   "source": [
    "    # -get the files by band name-------------------------------------------------------------\n",
    "    nc_files=[]\n",
    "    for root, _, filenames in os.walk(os.path.join(input_root,input_path)):\n",
    "        for filename in fnmatch.filter(filenames, DEFAULT_FILE_FILTER):\n",
    "            nc_files.append(os.path.join(root, filename))\n",
    "            if verbose:\n",
    "                print('Found: '+filename)\n",
    "            logging.info('Found: '+os.path.join(root, filename))\n",
    "\n",
    "    # get the reflectances\n",
    "    reflectances       = []\n",
    "    reflectance_errors = []\n",
    "    variability        = []\n",
    "    for nc_file in sorted(nc_files):\n",
    "        varname  = os.path.basename(nc_file).split('.')[0]\n",
    "        nc_fid   = nc.Dataset(nc_file, 'r')\n",
    "        reflectances.append(np.nanmean(nc_fid.variables[varname][I1f:I2f,J1f:J2f]))\n",
    "        variability.append(np.nanstd(nc_fid.variables[varname][I1f:I2f,J1f:J2f]))\n",
    "        reflectance_errors.append(np.nanmean(nc_fid.variables[varname+'_err'][I1f:I2f,J1f:J2f]))\n",
    "        nc_fid.close()\n",
    "        \n",
    "    tops = [x + y for x, y in zip(reflectances, variability)]\n",
    "    bottoms = [x - y for x, y in zip(reflectances, variability)]"
   ]
  },
  {
   "cell_type": "markdown",
   "metadata": {},
   "source": [
    "Finally, we plot the spectra and save."
   ]
  },
  {
   "cell_type": "code",
   "execution_count": 11,
   "metadata": {},
   "outputs": [],
   "source": [
    "    # print the spectra\n",
    "    fig1 = plt.figure(figsize=(10, 10), dpi=300)\n",
    "    plt.errorbar(wavelengths, reflectances, xerr=bandwidths, yerr=reflectance_errors,color='k',linewidth=1.0)\n",
    "    plt.plot(wavelengths,tops,'r--',linewidth=1.0)\n",
    "    plt.plot(wavelengths,bottoms,'r--',linewidth=1.0)\n",
    "    plt.fill_between(wavelengths,tops,bottoms,color='r',alpha=0.25)\n",
    "    plt.xlabel('Wavelength [nm]')\n",
    "    plt.ylabel('Reflectance')\n",
    "    plt.savefig('OLCI_spectra_demo.png',bbox_inches='tight')\n",
    "    plt.close(fig1)"
   ]
  }
 ],
 "metadata": {
  "kernelspec": {
   "display_name": "Python 2",
   "language": "python",
   "name": "python2"
  },
  "language_info": {
   "codemirror_mode": {
    "name": "ipython",
    "version": 3
   },
   "file_extension": ".py",
   "mimetype": "text/x-python",
   "name": "python",
   "nbconvert_exporter": "python",
   "pygments_lexer": "ipython3",
   "version": "3.5.2"
  }
 },
 "nbformat": 4,
 "nbformat_minor": 2
}
